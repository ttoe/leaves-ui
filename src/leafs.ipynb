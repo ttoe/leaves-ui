{
 "cells": [
  {
   "cell_type": "code",
   "execution_count": null,
   "metadata": {
    "collapsed": true
   },
   "outputs": [],
   "source": [
    "%matplotlib inline\n",
    "import warnings\n",
    "warnings.filterwarnings(\"ignore\")\n",
    "\n",
    "import multiprocessing\n",
    "\n",
    "import numpy              as np\n",
    "import pandas             as pd\n",
    "import os                 as os\n",
    "\n",
    "from   glob               import glob\n",
    "from   joblib             import Parallel, delayed\n",
    "from   skimage.color      import rgb2grey, label2rgb\n",
    "from   skimage.filter     import threshold_otsu, rank\n",
    "from   skimage.io         import imread, imsave, imshow\n",
    "from   skimage.measure    import label, regionprops\n",
    "from   skimage.morphology import binary_closing, remove_small_objects\n",
    "from   skimage.util       import img_as_uint"
   ]
  },
  {
   "cell_type": "code",
   "execution_count": null,
   "metadata": {
    "collapsed": true
   },
   "outputs": [],
   "source": [
    "# prop_filter_predicate :: Region -> Boolean\n",
    "def region_filter(region):\n",
    "    # main concern here is that the key regions are included\n",
    "    # those are usually rectangular\n",
    "    # therefore extent is the most reliable metric to filter by\n",
    "    return (region.extent <= 0.8)"
   ]
  },
  {
   "cell_type": "code",
   "execution_count": null,
   "metadata": {
    "collapsed": true
   },
   "outputs": [],
   "source": [
    "# filter_regions_by_props :: [Region] -> [Region]\n",
    "def filter_regions_by_props(regions):\n",
    "    return list(filter(region_filter, regions))"
   ]
  },
  {
   "cell_type": "code",
   "execution_count": null,
   "metadata": {
    "collapsed": false
   },
   "outputs": [],
   "source": [
    "# get_leaf_props :: Image -> String -> LabelledImage\n",
    "def process_and_label_image(image, species_name):\n",
    "    \n",
    "    # reading data\n",
    "    im = imread(image)\n",
    "    \n",
    "    # cropping out the interesting part and just using green channel\n",
    "    leaf_grey = im[:600,:600,1]\n",
    "    \n",
    "    # segmenting\n",
    "    global_thresh = threshold_otsu(leaf_grey)\n",
    "\n",
    "    # filling holes\n",
    "    bw_closed = binary_closing(np.invert(leaf_grey > global_thresh))\n",
    "\n",
    "    # removing small objects outside of leaf\n",
    "    bw_closed_rem = remove_small_objects(bw_closed, min_size=128, connectivity=2)\n",
    "\n",
    "    # return labelled image\n",
    "    return label(bw_closed_rem)"
   ]
  },
  {
   "cell_type": "code",
   "execution_count": null,
   "metadata": {
    "collapsed": false
   },
   "outputs": [],
   "source": [
    "# get_region_props_df :: LabelledImage -> DataFrame\n",
    "def get_leaf_props_df(labelled_im, species_name):\n",
    "    \n",
    "    # getting region's properties and filtering by extent\n",
    "    regions_properties = regionprops(labelled_im, cache=True)\n",
    "    filtered_regions = filter_regions_by_props(regions_properties)\n",
    "                \n",
    "    # creating dataframe\n",
    "    df = pd.DataFrame(columns = [\"species\", \"eccentricity\", \"extent\", \"solidity\", \"roundness\"])\n",
    "    \n",
    "    if len(filtered_regions) == 1:\n",
    "        # getting the props for the only region\n",
    "        p = filtered_regions[0]\n",
    "        \n",
    "        # manually calculating roundness\n",
    "        roundness = 4 * np.pi * p.area / p.perimeter**2\n",
    "        \n",
    "        # appending data to dataframe\n",
    "        df.loc[len(df)+1] = [species_name, p.eccentricity, p.extent, p.solidity, roundness]\n",
    "    \n",
    "    return df"
   ]
  },
  {
   "cell_type": "code",
   "execution_count": null,
   "metadata": {
    "collapsed": true
   },
   "outputs": [],
   "source": [
    "# takes a species name, which is used to build up the directory name over which will be looped\n",
    "# all *.jpg images in that directory will be processed and a dataframe containing\n",
    "# several morphometric descriptors will be returned\n",
    "# process_images_dir :: String -> String -> DataFrame\n",
    "def process_images_dir(root_dir, species_name):\n",
    "    \n",
    "    # get image filenames as a list and map image processing over it\n",
    "    image_filenames = glob(root_dir + species_name + \"/*.jpg\")\n",
    "    images = map(lambda image: process_and_label_image(image, species_name), image_filenames)\n",
    "    \n",
    "    # map over images in the current directory\n",
    "    dir_dataframes = map(lambda image: get_leaf_props_df(image, species_name), images)\n",
    "        \n",
    "    return pd.concat(dir_dataframes)"
   ]
  },
  {
   "cell_type": "code",
   "execution_count": null,
   "metadata": {
    "collapsed": false,
    "scrolled": true
   },
   "outputs": [],
   "source": [
    "# removing output\n",
    "if os.path.exists(\"/Users/totz/Desktop/leafs/out/leaf_morphometrics.csv\"):\n",
    "    os.remove(\"/Users/totz/Desktop/leafs/out/leaf_morphometrics.csv\")\n",
    "    \n",
    "# root of the directories with species lab images\n",
    "root_dir = \"/Users/totz/Desktop/leafs/leafsnap-dataset/dataset/images/lab/\"\n",
    "\n",
    "# get a list of all species (subdirectories)\n",
    "species = [x[1] for x in os.walk(root_dir)][0]\n",
    "\n",
    "# get the maximum number of cores available\n",
    "num_cores = multiprocessing.cpu_count()\n",
    "\n",
    "# compute the results\n",
    "results = Parallel(n_jobs=num_cores, verbose=11)(delayed(process_images_dir)(root_dir, i) for i in species[:50])"
   ]
  },
  {
   "cell_type": "code",
   "execution_count": null,
   "metadata": {
    "collapsed": false
   },
   "outputs": [],
   "source": [
    "# aggregate the results in one dataframe\n",
    "all_results = pd.concat(results).sort(\"species\", ascending=1)\n",
    "\n",
    "# write data to disk\n",
    "all_results.to_csv(\"/Users/totz/Desktop/leafs/out/leaf_morphometrics.csv\", index=False, float_format=\"%.3f\", decimal=\",\", sep=\";\")"
   ]
  }
 ],
 "metadata": {
  "kernelspec": {
   "display_name": "Python 3",
   "language": "python",
   "name": "python3"
  },
  "language_info": {
   "codemirror_mode": {
    "name": "ipython",
    "version": 3
   },
   "file_extension": ".py",
   "mimetype": "text/x-python",
   "name": "python",
   "nbconvert_exporter": "python",
   "pygments_lexer": "ipython3",
   "version": "3.5.2"
  }
 },
 "nbformat": 4,
 "nbformat_minor": 0
}
