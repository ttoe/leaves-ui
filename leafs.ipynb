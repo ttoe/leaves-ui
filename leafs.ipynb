{
 "cells": [
  {
   "cell_type": "code",
   "execution_count": null,
   "metadata": {
    "collapsed": true
   },
   "outputs": [],
   "source": [
    "%matplotlib inline\n",
    "import warnings\n",
    "warnings.filterwarnings(\"ignore\")\n",
    "\n",
    "import multiprocessing\n",
    "import numpy  as np\n",
    "import pandas as pd\n",
    "import os     as os\n",
    "\n",
    "from joblib             import Parallel, delayed\n",
    "from glob               import glob\n",
    "from skimage.color      import rgb2grey, label2rgb\n",
    "from skimage.filter     import threshold_otsu, rank\n",
    "from skimage.io         import imread, imsave, imshow\n",
    "from skimage.measure    import label, regionprops\n",
    "from skimage.morphology import binary_closing, square, remove_small_objects, disk\n",
    "from skimage.util       import img_as_uint"
   ]
  },
  {
   "cell_type": "code",
   "execution_count": null,
   "metadata": {
    "collapsed": false
   },
   "outputs": [],
   "source": [
    "# get_leaf_props :: String -> String -> DataFrame\n",
    "def get_leaf_props(image, species_name):\n",
    "\n",
    "    # !!! filename used for debugging purposes\n",
    "    fname = image.replace(\"/Users/totz/Desktop/leafs/leafsnap-dataset/dataset/images/lab/\", \"\")\n",
    "    \n",
    "    # the region properties to be computed and stored\n",
    "    columns = [ \"filename\", \"species\", \"area\", \"convex_area\", \"eccentricity\", \"equivalent_diameter\", \"extent\"\n",
    "              , \"major_axis_length\", \"minor_axis_length\", \"perimeter\", \"solidity\", \"ignore\" ]\n",
    "    \n",
    "    # creating dataframe\n",
    "    df = pd.DataFrame(columns=columns)\n",
    "    \n",
    "    # reading data\n",
    "    im = imread(image)\n",
    "    \n",
    "    # cropping out the interesting part and just using green channel\n",
    "    leaf_grey = im[:600,:600,1] #rgb2grey(im[:600,:600,:])\n",
    "\n",
    "    # segmenting\n",
    "    # radius = 1\n",
    "    # selem = square(radius)\n",
    "    # local_thresh = rank.otsu(leaf_grey, selem)\n",
    "    global_thresh = threshold_otsu(leaf_grey)\n",
    "\n",
    "    # filling holes\n",
    "    bw_closed = binary_closing(np.invert(leaf_grey > global_thresh))\n",
    "\n",
    "    # !!! This could be a problem with abies ... and other small leaf plants\n",
    "    # removing small objects outside of leaf\n",
    "    bw_closed_rem = remove_small_objects(bw_closed, min_size=128, connectivity=2)\n",
    "\n",
    "    # labelling\n",
    "    labelled = label(bw_closed_rem)\n",
    "    image_label_overlay = label2rgb(labelled, image=bw_closed_rem)\n",
    "\n",
    "    # computing properties\n",
    "    props = regionprops(labelled, cache=True)\n",
    "\n",
    "    # !!! this should not be here once the analysis is finalized\n",
    "    # !!! probably costs too much time, useful for debugging\n",
    "    imsave(image[:-4] + \".bmp\", image_label_overlay)\n",
    "    \n",
    "    # looping over all regions\n",
    "    # there should only ever be one region, but the image processing\n",
    "    # pipeline is imperfect and there are still problems to fix here\n",
    "        \n",
    "    # is written to dataframe to later filter it out\n",
    "    ignore = \"false\"\n",
    "    \n",
    "    if len(props) > 1 or len(props) == 0:\n",
    "        with open(\"/Users/totz/Desktop/leafs/multiple_regions.txt\", \"a\") as f:\n",
    "            f.write(str(len(props)) + \"\\t\" + image + \"\\n\")\n",
    "        # if there are multiple regions, set ignore to true, else it stays 0 as defined above\n",
    "        ignore = \"true\"\n",
    "\n",
    "    # getting the props for the only region\n",
    "    p = props[0]\n",
    "        \n",
    "    # extracting morphometric data from regionprops\n",
    "    data = [ fname, species_name, p.area, p.convex_area, p.eccentricity, p.equivalent_diameter, p.extent\n",
    "           , p.major_axis_length, p.minor_axis_length, p.perimeter, p.solidity, ignore]\n",
    "\n",
    "    # appending data to dataframe\n",
    "    df.loc[len(df)+1] = data\n",
    "    \n",
    "    return df"
   ]
  },
  {
   "cell_type": "code",
   "execution_count": null,
   "metadata": {
    "collapsed": true
   },
   "outputs": [],
   "source": [
    "# takes a species name, which is used to build up the directory name over which will be looped\n",
    "# all *.jpg images in that directory will be processed and a dataframe containing\n",
    "# several morphometric descriptors will be returned\n",
    "# process_images_dir :: String -> String -> DataFrame\n",
    "def process_images_dir(root_dir, species_name):\n",
    "\n",
    "    # list to hold all dataframes, one per image\n",
    "    res = []\n",
    "    \n",
    "    # get image filenames as a list\n",
    "    images = glob(root_dir + species_name + \"/*.jpg\")\n",
    "    \n",
    "    # loop over all images in the current directory\n",
    "    for i in images[:10]:\n",
    "        \n",
    "        # appending data to dataframe\n",
    "        # df.loc[len(df)+1] = get_leaf_props(i, species_name)\n",
    "        res += [get_leaf_props(i, species_name)]\n",
    "        \n",
    "    return pd.concat(res)"
   ]
  },
  {
   "cell_type": "code",
   "execution_count": null,
   "metadata": {
    "collapsed": false,
    "scrolled": true
   },
   "outputs": [],
   "source": [
    "# removing output files, clean slate\n",
    "if os.path.exists(\"/Users/totz/Desktop/leafs/leaf_morphometrics.csv\"):\n",
    "    os.remove(\"/Users/totz/Desktop/leafs/leaf_morphometrics.csv\")\n",
    "if os.path.exists(\"/Users/totz/Desktop/leafs/multiple_regions.txt\"):\n",
    "    os.remove(\"/Users/totz/Desktop/leafs/multiple_regions.txt\")\n",
    "    \n",
    "# root of the directories with species lab images\n",
    "root_dir = \"/Users/totz/Desktop/leafs/leafsnap-dataset/dataset/images/lab/\"\n",
    "\n",
    "# get a list of all species (subdirectories)\n",
    "species = [x[1] for x in os.walk(root_dir)][0]\n",
    "\n",
    "# get the maximum number of cores available\n",
    "num_cores = multiprocessing.cpu_count() - 1\n",
    "\n",
    "# compute the results\n",
    "results = Parallel(n_jobs=num_cores, verbose=11)(delayed(process_images_dir)(root_dir, i) for i in species[:20])"
   ]
  },
  {
   "cell_type": "code",
   "execution_count": null,
   "metadata": {
    "collapsed": false
   },
   "outputs": [],
   "source": [
    "# aggregate the results in one dataframe\n",
    "all_results = pd.concat(results).sort(\"species\", ascending=1)\n",
    "\n",
    "# write data to disk\n",
    "all_results.to_csv(\"/Users/totz/Desktop/leafs/leaf_morphometrics.csv\", index=False, float_format=\"%.3f\", decimal=\",\", sep=\";\")\n",
    "\n",
    "all_results.hist(\"extent\", bins=20)\n",
    "#all_results.hist(\"solidity\", bins=20)\n",
    "#all_results.hist(\"perimeter\", bins=20)"
   ]
  }
 ],
 "metadata": {
  "kernelspec": {
   "display_name": "Python 3",
   "language": "python",
   "name": "python3"
  },
  "language_info": {
   "codemirror_mode": {
    "name": "ipython",
    "version": 3
   },
   "file_extension": ".py",
   "mimetype": "text/x-python",
   "name": "python",
   "nbconvert_exporter": "python",
   "pygments_lexer": "ipython3",
   "version": "3.5.2"
  }
 },
 "nbformat": 4,
 "nbformat_minor": 0
}
