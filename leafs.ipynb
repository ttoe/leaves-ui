{
 "cells": [
  {
   "cell_type": "code",
   "execution_count": 2,
   "metadata": {
    "collapsed": false
   },
   "outputs": [],
   "source": [
    "%matplotlib inline\n",
    "import warnings\n",
    "warnings.filterwarnings(\"ignore\")\n",
    "\n",
    "import multiprocessing\n",
    "import numpy  as np\n",
    "import pandas as pd\n",
    "import os     as os\n",
    "\n",
    "from joblib             import Parallel, delayed\n",
    "from glob               import glob\n",
    "from skimage.color      import rgb2gray, label2rgb\n",
    "from skimage.filter     import threshold_otsu\n",
    "from skimage.io         import imread, imsave\n",
    "from skimage.measure    import label, regionprops\n",
    "from skimage.morphology import binary_closing, square, remove_small_objects\n",
    "from skimage.util       import img_as_uint\n",
    "\n",
    "\n",
    "# get_leaf_props :: String -> String -> DataFrame\n",
    "def get_leaf_props(image, species_name):\n",
    "\n",
    "    # the region properties to be computed and stored\n",
    "    columns = [ \"species\", \"area\", \"convex_area\", \"eccentricity\", \"equivalent_diameter\", \"extent\"\n",
    "              , \"major_axis_length\", \"minor_axis_length\", \"perimeter\", \"solidity\" ]\n",
    "    \n",
    "    # creating dataframe\n",
    "    df = pd.DataFrame(columns=columns)\n",
    "    \n",
    "    # reading data\n",
    "    im = imread(image)\n",
    "    \n",
    "    # cropping out the interesting part\n",
    "    leaf_grey = rgb2gray(im[:600,:600])\n",
    "\n",
    "    # segmenting\n",
    "    thresh = threshold_otsu(leaf_grey)\n",
    "\n",
    "    # filling holes\n",
    "    bw_closed = binary_closing(np.invert(leaf_grey > thresh))\n",
    "\n",
    "    # !!! This could be a problem with abies ... and other small leaf plants\n",
    "    # removing small objects outside of leaf\n",
    "    bw_closed_rem = remove_small_objects(bw_closed, min_size=128, connectivity=2)\n",
    "\n",
    "    # labelling\n",
    "    labelled = label(bw_closed_rem)\n",
    "    # image_label_overlay = label2rgb(labelled, image=bw_closed_rem)\n",
    "\n",
    "    # computing properties\n",
    "    props = regionprops(labelled, cache=True)\n",
    "\n",
    "    # looping over all regions\n",
    "    # there should only ever be one region, but the image processing\n",
    "    # pipeline is imperfect and there are still problems to fix here\n",
    "    if len(props) > 1:\n",
    "        # with open(\"path.log\", \"a\") as f:\n",
    "            # f.write(\"blabla\")\n",
    "        image_label_overlay = label2rgb(labelled, image=bw_closed_rem)\n",
    "        imsave(image[:-4] + \".bmp\", image_label_overlay)\n",
    "        \n",
    "    for p in props:\n",
    "            \n",
    "        # extracting morphometric data from regionprops\n",
    "        data = [species_name, p.area, p.convex_area, p.eccentricity, p.equivalent_diameter, p.extent\n",
    "               , p.major_axis_length, p.minor_axis_length, p.perimeter, p.solidity]\n",
    "\n",
    "        # appending data to dataframe\n",
    "        df.loc[len(df)+1] = data\n",
    "    \n",
    "    return df\n",
    "\n",
    "\n",
    "# takes a species name, which is used to build up the directory name over which will be looped\n",
    "# all *.jpg images in that directory will be processed and a dataframe containing\n",
    "# several morphometric descriptors will be returned\n",
    "\n",
    "# process_images_dir :: String -> String -> DataFrame\n",
    "def process_images_dir(root_dir, species_name):\n",
    "\n",
    "    # list to hold all dataframes, one per image\n",
    "    res = []\n",
    "    \n",
    "    # get image filenames as a list\n",
    "    images = glob(root_dir + species_name + \"/*.jpg\")\n",
    "    \n",
    "    # loop over all images in the current directory\n",
    "    for i in images[:3]:\n",
    "        \n",
    "        # appending data to dataframe\n",
    "        # df.loc[len(df)+1] = get_leaf_props(i, species_name)\n",
    "        res += [get_leaf_props(i, species_name)]\n",
    "        \n",
    "    return pd.concat(res)"
   ]
  },
  {
   "cell_type": "code",
   "execution_count": 3,
   "metadata": {
    "collapsed": false,
    "scrolled": true
   },
   "outputs": [
    {
     "name": "stderr",
     "output_type": "stream",
     "text": [
      "[Parallel(n_jobs=3)]: Done   1 tasks      | elapsed:    1.1s\n",
      "[Parallel(n_jobs=3)]: Done   2 tasks      | elapsed:    1.7s\n",
      "[Parallel(n_jobs=3)]: Done   3 tasks      | elapsed:    2.4s\n",
      "[Parallel(n_jobs=3)]: Done   4 tasks      | elapsed:    2.9s\n",
      "[Parallel(n_jobs=3)]: Done   5 tasks      | elapsed:    3.2s\n",
      "[Parallel(n_jobs=3)]: Done  11 out of  10 | elapsed:    3.2s remaining:   -0.3s\n",
      "[Parallel(n_jobs=3)]: Done  11 out of  10 | elapsed:    3.6s remaining:   -0.3s\n",
      "[Parallel(n_jobs=3)]: Done  11 out of  10 | elapsed:    4.3s remaining:   -0.4s\n",
      "[Parallel(n_jobs=3)]: Done  11 out of  10 | elapsed:    4.4s remaining:   -0.4s\n",
      "[Parallel(n_jobs=3)]: Done  11 out of  10 | elapsed:    4.6s remaining:   -0.4s\n",
      "[Parallel(n_jobs=3)]: Done  10 out of  10 | elapsed:    4.6s finished\n"
     ]
    }
   ],
   "source": [
    "# root of the directories with species lab images\n",
    "root_dir = \"/Users/totz/Desktop/leafs/leafsnap-dataset/dataset/images/lab/\"\n",
    "\n",
    "# get a list of all species (subdirectories)\n",
    "species = [x[1] for x in os.walk(root_dir)][0]\n",
    "\n",
    "# get the maximum number of cores available\n",
    "num_cores = multiprocessing.cpu_count() - 1\n",
    "\n",
    "# compute the results\n",
    "results = Parallel(n_jobs=num_cores, verbose=11)(delayed(process_images_dir)(root_dir, i) for i in species[:10])"
   ]
  },
  {
   "cell_type": "code",
   "execution_count": null,
   "metadata": {
    "collapsed": false
   },
   "outputs": [],
   "source": [
    "# aggregate the results in one dataframe\n",
    "all_results = pd.concat(results).sort(\"species\", ascending=1)\n",
    "\n",
    "# write data to disk\n",
    "all_results.to_csv(\"/Users/totz/Desktop/leafs/leaf_morphometrics.csv\", index=False, float_format=\"%.3f\")"
   ]
  }
 ],
 "metadata": {
  "kernelspec": {
   "display_name": "Python 3",
   "language": "python",
   "name": "python3"
  },
  "language_info": {
   "codemirror_mode": {
    "name": "ipython",
    "version": 3
   },
   "file_extension": ".py",
   "mimetype": "text/x-python",
   "name": "python",
   "nbconvert_exporter": "python",
   "pygments_lexer": "ipython3",
   "version": "3.5.2"
  }
 },
 "nbformat": 4,
 "nbformat_minor": 0
}
